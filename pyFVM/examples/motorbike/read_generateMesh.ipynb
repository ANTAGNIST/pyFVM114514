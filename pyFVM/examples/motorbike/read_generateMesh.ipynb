{
 "cells": [
  {
   "cell_type": "code",
   "execution_count": 153,
   "metadata": {},
   "outputs": [],
   "source": [
    "import numpy as np "
   ]
  },
  {
   "cell_type": "code",
   "execution_count": 154,
   "metadata": {},
   "outputs": [],
   "source": [
    "def convert_data(path:str, line_start:int, line_end:int=-4, num_type:str=\"int\") -> np.array:\n",
    "    \"\"\"\n",
    "    path:文件路径,\n",
    "    line_start:数字开始行,\n",
    "    line_end:数字结束行,\n",
    "    num_type:数字类型,\n",
    "    \"\"\"\n",
    "    num_type_dict = {\n",
    "        \"int\":int,\n",
    "        \"float\":float,\n",
    "    }\n",
    "    with open(path, 'r') as file:\n",
    "        lines = file.readlines()[line_start:line_end]\n",
    "        data = []\n",
    "        for line in lines:\n",
    "            # 替换'4(28 617 618 29)\\n'中的括号与空格为逗号\n",
    "            line = line.strip().replace(\"(\", \" \").replace(\")\", \" \").split()\n",
    "            # 替换['4', '28', '617', '618', '29']当中字符串为数字\n",
    "            line = [num_type_dict[num_type](l) for l in line]\n",
    "            data.append(line)\n",
    "        data = np.array(data)\n",
    "    return data "
   ]
  },
  {
   "cell_type": "code",
   "execution_count": 155,
   "metadata": {},
   "outputs": [],
   "source": [
    "faces = convert_data(\"./faces\", 19)\n",
    "faces = faces[:, 1:]"
   ]
  },
  {
   "cell_type": "code",
   "execution_count": 156,
   "metadata": {},
   "outputs": [],
   "source": [
    "neighbours = convert_data(\"./neighbour\", 20)"
   ]
  },
  {
   "cell_type": "code",
   "execution_count": 157,
   "metadata": {},
   "outputs": [],
   "source": [
    "owners = convert_data(\"./owner\", 20)"
   ]
  },
  {
   "cell_type": "code",
   "execution_count": 158,
   "metadata": {},
   "outputs": [],
   "source": [
    "points = convert_data(\"./points\", 19, num_type=\"float\")\n",
    "points = points * 1000"
   ]
  },
  {
   "cell_type": "code",
   "execution_count": 159,
   "metadata": {},
   "outputs": [],
   "source": [
    "boundary = {  \n",
    "    \"inlet\": {  \n",
    "        \"type\": \"patch\",  \n",
    "        \"nFaces\": 30,  \n",
    "        \"startFace\": 24170  \n",
    "    },  \n",
    "    \"outlet\": {  \n",
    "        \"type\": \"patch\",  \n",
    "        \"nFaces\": 57,  \n",
    "        \"startFace\": 24200  \n",
    "    },  \n",
    "    \"upperWall\": {  \n",
    "        \"type\": \"wall\",  \n",
    "        \"inGroups\": \"List<word> 1(wall)\",  \n",
    "        \"nFaces\": 223,  \n",
    "        \"startFace\": 24257  \n",
    "    },  \n",
    "    \"lowerWall\": {  \n",
    "        \"type\": \"wall\",  \n",
    "        \"inGroups\": \"List<word> 1(wall)\",  \n",
    "        \"nFaces\": 250,  \n",
    "        \"startFace\": 24480  \n",
    "    },  \n",
    "    \"frontAndBack\": {  \n",
    "        \"type\": \"empty\",  \n",
    "        \"inGroups\": \"List<word> 1(empty)\",  \n",
    "        \"nFaces\": 24450,  \n",
    "        \"startFace\": 24730  \n",
    "    }  \n",
    "}"
   ]
  },
  {
   "cell_type": "code",
   "execution_count": 160,
   "metadata": {},
   "outputs": [],
   "source": [
    "class Node():\n",
    "    def __init__(\n",
    "            self, \n",
    "            centriod:np.array=np.zeros(3), # 节点形心坐标，即节点的坐标x,y,z\n",
    "            index:int=0,  # 节点整体标识（编号，编码）\n",
    "            iFaces:np.array=np.zeros(3), # 节点被哪些面所享有，这些面的标识列表\n",
    "            iElement:np.array=np.zeros(3), # 节点被哪些单元所享有，这些单元的标识列表\n",
    "            ) -> None:\n",
    "        self.centriod = centriod\n",
    "        self.index = index\n",
    "        self.iFaces = iFaces\n",
    "        self.iElement = iElement \n",
    "class Face():\n",
    "    def __init__(\n",
    "            self, \n",
    "            iNodes:np.array=np.zeros(3), # 构成该面的节点列表\n",
    "            index:int=0, # 该面的标识\n",
    "            iOwner:int=0, # 该面owner单元标识\n",
    "            iNeighbour:int=0, # 该面neighbour单元标识（若为边界面，则该标识为-1）\n",
    "            centriod:np.array=np.zeros(3), # 该面形心坐标x,y,z\n",
    "            Sf:np.array=np.zeros(3), # 该面的面积矢量Sx,Sy,Sz\n",
    "            area:float=0.0, # 该面的面积S\n",
    "            Cf:np.array=np.zeros(3), # 该面所属单元形心到该面形心的距离矢量Cf\n",
    "            geoDiff:float=0.0, # 面几何扩散系数 gDiff_f = Ef / CF\n",
    "            T:np.array=np.zeros(3), # 面所属单元和邻近单元形心之间的距离矢量CF？（感觉更像是Tf=Sf-CF为非正交修正矢量，见第8章内容）\n",
    "            gf:float=0.0, # 面插值中的几何权重系数gf\n",
    "            walldist:int=0, # 面所属单元形心到壁面的垂直距离（某些湍流模型中会用到）\n",
    "            iOwnerNeighbourCoef:np.array=np.array([0]), # ?\n",
    "            iNeighbourOwnerCoef:np.array=np.array([0]), # ?\n",
    "            ):        \n",
    "        self.iNodes = iNodes\n",
    "        self.index = index\n",
    "        self.iOwner = iOwner \n",
    "        self.iNeighbour = iNeighbour\n",
    "        self.centriod = centriod\n",
    "        self.Sf = Sf \n",
    "        self.area = area \n",
    "        self.Cf = Cf \n",
    "        self.geoDiff = geoDiff \n",
    "        self.T = T \n",
    "        self.gf = gf \n",
    "        self.walldist = walldist\n",
    "        self.iOwnerNeighbourCoef = iOwnerNeighbourCoef\n",
    "        self.iNeighbourOwnerCoef = iNeighbourOwnerCoef\n",
    "    # def initialize_data(self):\n",
    "class Element():\n",
    "    def __init__(\n",
    "            self,\n",
    "            index:int=0, # 该单元标识\n",
    "            iNeighbour:np.array=np.zeros(3), # 该单元的邻近单元（与该单元共享面的那些单元）标识列表\n",
    "            iFaces:np.array=np.zeros(3), # 构成该单元的面标识列表\n",
    "            iNodes:np.array=np.zeros(3), # 构成该单元的节点标识列表\n",
    "            volume:float=0.0, # 该单元体积\n",
    "            faceSign:np.array=np.zeros(3), # 该单元的构成面是否为其owner面（==1）或neighbour（==-1）\n",
    "            numberOfNeighbour:int=0, # 该单元邻近单元数目\n",
    "            centroid:np.array=np.zeros(3), # 该单元的形心坐标x,y,z\n",
    "            ):\n",
    "        self.index = index \n",
    "        self.iNeighbour = iNeighbour\n",
    "        self.iFaces = iFaces \n",
    "        self.iNodes = iNodes \n",
    "        self.volume = volume \n",
    "        self.faceSign = faceSign \n",
    "        self.numberOfNeighbour = numberOfNeighbour\n",
    "        self.centroid = centroid\n",
    "class Boundary():\n",
    "    def __init__(\n",
    "            self,\n",
    "            userName:str=None,\n",
    "            index:int=0,\n",
    "            type_:str=None,\n",
    "            numberOfBFaces:int=0,\n",
    "            startFace:int=0,\n",
    "            ) -> None:\n",
    "        self.userName = userName \n",
    "        self.index = index \n",
    "        self.type = type_ \n",
    "        self.numberOfBFaces = numberOfBFaces\n",
    "        self.startFace = startFace"
   ]
  },
  {
   "cell_type": "code",
   "execution_count": 161,
   "metadata": {},
   "outputs": [],
   "source": [
    "# 对面的各种量进行计算\n",
    "for face in faces:\n",
    "    # face 面的角点标识\n",
    "    theNumberOfFaceNodes = len(face) # 某个面对应角点的个数\n",
    "    # 计算面的大概几何中心\n",
    "    local_center = np.zeros(3)\n",
    "    for iNode in face:\n",
    "        local_center += points[iNode]\n",
    "    local_center /= theNumberOfFaceNodes\n",
    "\n",
    "    centroid = np.zeros(3) # 初始化该面形心\n",
    "    Sf = np.zeros(3) # 初始化该面面矢量\n",
    "    area = 0 # 初始化该面面积\n",
    "\n",
    "    for iTriangle in range(theNumberOfFaceNodes):\n",
    "        # 计算该面被分割成的小三角形的形心、面矢量、面积\n",
    "        point1 = centroid\n",
    "        point2 = points[face[iTriangle], :]\n",
    "        if iTriangle < theNumberOfFaceNodes-1: # python从0开始索引\n",
    "            point3 = points[face[iTriangle+1], :]\n",
    "        else:\n",
    "            point3 = points[face[0], :]\n",
    "        local_centroid = (point1+point2+point3) / 3 # 计算小三角形形心\n",
    "        local_Sf = (1/2) * np.cross(point2-point1, point3-point1) # 计算小三角形面积矢量\n",
    "        local_area = np.linalg.norm(local_Sf)\n",
    "\n",
    "        centroid = centroid + local_area*local_centroid\n",
    "        Sf = Sf + local_Sf \n",
    "        area = area + local_area \n",
    "    centroid = centroid / area"
   ]
  },
  {
   "cell_type": "code",
   "execution_count": 162,
   "metadata": {},
   "outputs": [],
   "source": [
    "with open(\"./owner\", 'r') as f:\n",
    "    file = f.readlines()\n",
    "note = file[11].strip().replace('\"', '').replace(';', '').replace(':', '').split()\n",
    "the_number_of_elements = int(note[4])\n",
    "the_number_of_interior_faces = int(note[8])\n",
    "the_number_of_faces = int(note[6])"
   ]
  },
  {
   "cell_type": "code",
   "execution_count": 163,
   "metadata": {},
   "outputs": [],
   "source": [
    "# file[11].strip().replace('\"', '').replace(';', '').replace(':', '').split()"
   ]
  },
  {
   "cell_type": "code",
   "execution_count": 164,
   "metadata": {},
   "outputs": [],
   "source": [
    "\"\"\"\n",
    "面的邻居单元（neighbour）标识列表\n",
    "面的所属（owner）单元标识\n",
    "\"\"\"\n",
    "# Element-neighbours indices, Element-faces indices, Element-node indices\n",
    "element_neighbours = [[] for _ in range(the_number_of_elements)] # 单元旁边的单元index\n",
    "element_faces = [[] for _ in range(the_number_of_elements)] # 单元旁边的面index\n",
    "\n",
    "for iFace in range(the_number_of_interior_faces):\n",
    "    own = owners[iFace][0]\n",
    "    nei = neighbours[iFace][0]\n",
    "    # 面相邻的单元1添加到相邻的单元2那里\n",
    "    element_neighbours[own].append(nei)\n",
    "    element_neighbours[nei].append(own)\n",
    "    # 单元旁边的面\n",
    "    element_faces[own].append(iFace)\n",
    "    element_faces[nei].append(iFace)\n",
    "\n",
    "for iFace in range(the_number_of_interior_faces, the_number_of_faces):\n",
    "    own = owners[iFace][0]\n",
    "    element_faces[own].append(iFace)"
   ]
  },
  {
   "cell_type": "code",
   "execution_count": 191,
   "metadata": {},
   "outputs": [],
   "source": [
    "def unique(ls_1D):\n",
    "    ls_temp = []\n",
    "    for l in ls_1D:\n",
    "        if l in ls_temp:\n",
    "            continue\n",
    "        ls_temp.append(l)\n",
    "    return ls_temp "
   ]
  },
  {
   "cell_type": "code",
   "execution_count": 192,
   "metadata": {},
   "outputs": [],
   "source": [
    "element_nodes = [[] for _ in range(the_number_of_elements)] # 单元旁边的点index\n",
    "\n",
    "for iElement in range(the_number_of_elements):\n",
    "    for face_index in element_faces[iElement]:\n",
    "        element_nodes_ = list(faces[face_index]) # faces 对应 uFVM中的faceNodes\n",
    "        element_nodes[iElement].extend(element_nodes_)\n",
    "    element_nodes[iElement] = unique(element_nodes[iElement])"
   ]
  },
  {
   "cell_type": "code",
   "execution_count": 203,
   "metadata": {},
   "outputs": [],
   "source": [
    "# Element Anb coefficients indices\n",
    "upper_and_coeff_index = np.zeros((the_number_of_interior_faces, 1))\n",
    "lower_and_coeff_index = np.zeros((the_number_of_interior_faces, 1))\n",
    "\n",
    "for iElement in range(the_number_of_elements):\n",
    "    iNb = 1\n",
    "    for face_index in element_faces[iElement]:\n",
    "        # 跳过边界面\n",
    "        if face_index > the_number_of_interior_faces-1:\n",
    "            continue\n",
    "        # own, nei 就是某面两个的相邻单元\n",
    "        own = owners[face_index]\n",
    "        nei = neighbours[face_index]\n",
    "        if iElement == own:\n",
    "            upper_and_coeff_index[face_index] = iNb \n",
    "        elif iElement == nei:\n",
    "            lower_and_coeff_index[face_index] = iNb \n",
    "        iNb += 1"
   ]
  },
  {
   "cell_type": "code",
   "execution_count": 218,
   "metadata": {},
   "outputs": [],
   "source": [
    "def cfd_invert_connectivity(the_connectivity_array):\n",
    "    the_inverted_size = 0\n",
    "    the_inverted_size_ls = []\n",
    "    for arr in the_connectivity_array:\n",
    "        the_inverted_size = max(arr)\n",
    "        the_inverted_size_ls.extend(the_inverted_size)\n",
    "    for arr in the_inverted_size_ls:\n",
    "        the_inverted_size = max(arr)\n",
    "    the_inverted_connectivity_array = [[] for _ in range(the_inverted_size)]\n",
    "    for i in range(len(the_connectivity_array)):\n",
    "        for j in range(len(the_connectivity_array[i])):\n",
    "            the_inverted_connectivity_array[i].append(the_connectivity_array[j])\n",
    "    return the_inverted_connectivity_array"
   ]
  },
  {
   "cell_type": "code",
   "execution_count": 219,
   "metadata": {},
   "outputs": [
    {
     "ename": "TypeError",
     "evalue": "'numpy.int32' object is not iterable",
     "output_type": "error",
     "traceback": [
      "\u001b[1;31m---------------------------------------------------------------------------\u001b[0m",
      "\u001b[1;31mTypeError\u001b[0m                                 Traceback (most recent call last)",
      "Cell \u001b[1;32mIn[219], line 2\u001b[0m\n\u001b[0;32m      1\u001b[0m \u001b[38;5;66;03m# Invert connectivity\u001b[39;00m\n\u001b[1;32m----> 2\u001b[0m node_elements \u001b[38;5;241m=\u001b[39m \u001b[43mcfd_invert_connectivity\u001b[49m\u001b[43m(\u001b[49m\u001b[43melement_nodes\u001b[49m\u001b[43m)\u001b[49m\n\u001b[0;32m      3\u001b[0m node_faces    \u001b[38;5;241m=\u001b[39m cfd_invert_connectivity(faces)\n",
      "Cell \u001b[1;32mIn[218], line 8\u001b[0m, in \u001b[0;36mcfd_invert_connectivity\u001b[1;34m(the_connectivity_array)\u001b[0m\n\u001b[0;32m      6\u001b[0m     the_inverted_size_ls\u001b[38;5;241m.\u001b[39mappend(the_inverted_size)\n\u001b[0;32m      7\u001b[0m \u001b[38;5;28;01mfor\u001b[39;00m arr \u001b[38;5;129;01min\u001b[39;00m the_inverted_size_ls:\n\u001b[1;32m----> 8\u001b[0m     the_inverted_size \u001b[38;5;241m=\u001b[39m \u001b[38;5;28;43mmax\u001b[39;49m\u001b[43m(\u001b[49m\u001b[43marr\u001b[49m\u001b[43m)\u001b[49m\n\u001b[0;32m      9\u001b[0m the_inverted_connectivity_array \u001b[38;5;241m=\u001b[39m [[] \u001b[38;5;28;01mfor\u001b[39;00m _ \u001b[38;5;129;01min\u001b[39;00m \u001b[38;5;28mrange\u001b[39m(the_inverted_size)]\n\u001b[0;32m     10\u001b[0m \u001b[38;5;28;01mfor\u001b[39;00m i \u001b[38;5;129;01min\u001b[39;00m \u001b[38;5;28mrange\u001b[39m(\u001b[38;5;28mlen\u001b[39m(the_connectivity_array)):\n",
      "\u001b[1;31mTypeError\u001b[0m: 'numpy.int32' object is not iterable"
     ]
    }
   ],
   "source": [
    "# Invert connectivity\n",
    "node_elements = cfd_invert_connectivity(element_nodes)\n",
    "node_faces    = cfd_invert_connectivity(faces)"
   ]
  },
  {
   "cell_type": "code",
   "execution_count": 220,
   "metadata": {},
   "outputs": [
    {
     "data": {
      "text/plain": [
       "[0, 0, 0]"
      ]
     },
     "execution_count": 220,
     "metadata": {},
     "output_type": "execute_result"
    }
   ],
   "source": [
    "[0 for _ in range(3)]"
   ]
  },
  {
   "cell_type": "code",
   "execution_count": null,
   "metadata": {},
   "outputs": [],
   "source": []
  }
 ],
 "metadata": {
  "kernelspec": {
   "display_name": "torch200",
   "language": "python",
   "name": "python3"
  },
  "language_info": {
   "codemirror_mode": {
    "name": "ipython",
    "version": 3
   },
   "file_extension": ".py",
   "mimetype": "text/x-python",
   "name": "python",
   "nbconvert_exporter": "python",
   "pygments_lexer": "ipython3",
   "version": "3.9.16"
  }
 },
 "nbformat": 4,
 "nbformat_minor": 2
}
